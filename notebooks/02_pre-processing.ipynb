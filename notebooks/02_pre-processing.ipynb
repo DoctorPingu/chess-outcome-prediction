{
 "cells": [
  {
   "cell_type": "code",
   "execution_count": null,
   "id": "81028974",
   "metadata": {},
   "outputs": [],
   "source": [
    "# ==========================================\n",
    "# 1. Imports & Config\n",
    "# ==========================================\n",
    "\n",
    "from pathlib import Path\n",
    "import json\n",
    "import numpy as np\n",
    "import pandas as pd\n",
    "import warnings\n",
    "warnings.filterwarnings(\"ignore\")\n",
    "\n",
    "# Reproducibility\n",
    "RANDOM_STATE = 42\n",
    "np.random.seed(RANDOM_STATE)\n",
    "\n",
    "# Paths\n",
    "NB_DIR = Path.cwd()\n",
    "DATA_DIR = (NB_DIR / \"../data\").resolve()\n",
    "RES_DIR  = (NB_DIR / \"../results\").resolve()\n",
    "RES_DIR.mkdir(parents=True, exist_ok=True)\n",
    "\n",
    "CLEAN_CSV = DATA_DIR / \"clean_chess_games.csv\"           # preferred\n",
    "SUBSET_CSV = DATA_DIR / \"raw_chess_games_subset.csv\"     # fallback\n",
    "\n",
    "print(\"DATA_DIR:\", DATA_DIR)\n",
    "print(\"RESULTS:\", RES_DIR)\n",
    "\n",
    "# Sklearn / plotting / models\n",
    "from sklearn.model_selection import train_test_split\n",
    "from sklearn.metrics import accuracy_score, f1_score, classification_report, confusion_matrix\n",
    "from sklearn.preprocessing import LabelEncoder, StandardScaler\n",
    "from sklearn.ensemble import RandomForestClassifier\n",
    "import joblib\n",
    "\n",
    "# Keras for DL model (works locally & on Colab)\n",
    "import tensorflow as tf\n",
    "from tensorflow import keras\n",
    "from tensorflow.keras import layers\n",
    "tf.random.set_seed(RANDOM_STATE)"
   ]
  }
 ],
 "metadata": {
  "kernelspec": {
   "display_name": "base",
   "language": "python",
   "name": "python3"
  },
  "language_info": {
   "codemirror_mode": {
    "name": "ipython",
    "version": 3
   },
   "file_extension": ".py",
   "mimetype": "text/x-python",
   "name": "python",
   "nbconvert_exporter": "python",
   "pygments_lexer": "ipython3",
   "version": "3.12.3"
  }
 },
 "nbformat": 4,
 "nbformat_minor": 5
}

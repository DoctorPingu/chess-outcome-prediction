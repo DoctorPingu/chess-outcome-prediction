{
 "cells": [
  {
   "cell_type": "markdown",
   "id": "d2604580",
   "metadata": {},
   "source": [
    "# Dataset Info\n",
    "The full dataset (`chess_games.csv`) is too large to include in this repo.\n",
    "You can download it from Kaggle:\n",
    "https://www.kaggle.com/datasets/arevel/chess-games\n",
    "\n",
    "After downloading, place it in the `data/` folder.\n",
    "Run this notebook (`01_downsampling.ipynb`) to create `chess_games_subset.csv`\n",
    "(~80 MB), which is used for all subsequent notebooks."
   ]
  },
  {
   "cell_type": "code",
   "execution_count": 1,
   "id": "e3faf468",
   "metadata": {},
   "outputs": [
    {
     "name": "stdout",
     "output_type": "stream",
     "text": [
      "Raw file: ..\\data\\chess_games.csv\n"
     ]
    }
   ],
   "source": [
    "# ==========================================\n",
    "# 1. Imports & Paths\n",
    "# ==========================================\n",
    "\n",
    "import pandas as pd\n",
    "from pathlib import Path\n",
    "\n",
    "# Base paths\n",
    "DATA_DIR = Path(\"../data\")\n",
    "RAW_FILE = DATA_DIR / \"chess_games.csv\"\n",
    "OUT_FILE = DATA_DIR / \"chess_games_subset.csv\"\n",
    "\n",
    "print(\"Raw file:\", RAW_FILE)"
   ]
  },
  {
   "cell_type": "code",
   "execution_count": 2,
   "id": "2d4e5a48",
   "metadata": {},
   "outputs": [
    {
     "name": "stdout",
     "output_type": "stream",
     "text": [
      "Original file size: 4176.04 MB\n",
      "Target subset size ≈ 80 MB\n",
      "Sampling fraction ≈ 0.019 (1.9%)\n"
     ]
    }
   ],
   "source": [
    "# ==========================================\n",
    "# 2. Estimate Size & Choose Fraction\n",
    "# ==========================================\n",
    "\n",
    "# Original file size in MB\n",
    "size_mb = RAW_FILE.stat().st_size / (1024**2)\n",
    "print(f\"Original file size: {size_mb:.2f} MB\")\n",
    "\n",
    "# Target subset size (change this if you want a different cap)\n",
    "target_mb = 80  \n",
    "\n",
    "# Approx fraction to sample\n",
    "frac = min(1.0, target_mb / size_mb)\n",
    "print(f\"Target subset size ≈ {target_mb} MB\")\n",
    "print(f\"Sampling fraction ≈ {frac:.3f} ({frac*100:.1f}%)\")"
   ]
  },
  {
   "cell_type": "code",
   "execution_count": 3,
   "id": "a38379bf",
   "metadata": {},
   "outputs": [
    {
     "name": "stdout",
     "output_type": "stream",
     "text": [
      "Subset saved to: ..\\data\\chess_games_subset.csv\n",
      "Subset shape: (119868, 15)\n",
      "Subset size: 80.02 MB\n"
     ]
    }
   ],
   "source": [
    "# ==========================================\n",
    "# 3. Downsample & Save\n",
    "# ==========================================\n",
    "\n",
    "chunksize = 100_000\n",
    "subset_chunks = []\n",
    "\n",
    "for chunk in pd.read_csv(RAW_FILE, chunksize=chunksize):\n",
    "    subset_chunks.append(chunk.sample(frac=frac, random_state=42))\n",
    "\n",
    "df_small = pd.concat(subset_chunks)\n",
    "\n",
    "# Save\n",
    "df_small.to_csv(OUT_FILE, index=False)\n",
    "\n",
    "# Report\n",
    "out_size_mb = OUT_FILE.stat().st_size / (1024**2)\n",
    "print(f\"Subset saved to: {OUT_FILE}\")\n",
    "print(f\"Subset shape: {df_small.shape}\")\n",
    "print(f\"Subset size: {out_size_mb:.2f} MB\")"
   ]
  }
 ],
 "metadata": {
  "kernelspec": {
   "display_name": "chessml",
   "language": "python",
   "name": "python3"
  },
  "language_info": {
   "codemirror_mode": {
    "name": "ipython",
    "version": 3
   },
   "file_extension": ".py",
   "mimetype": "text/x-python",
   "name": "python",
   "nbconvert_exporter": "python",
   "pygments_lexer": "ipython3",
   "version": "3.10.18"
  }
 },
 "nbformat": 4,
 "nbformat_minor": 5
}
